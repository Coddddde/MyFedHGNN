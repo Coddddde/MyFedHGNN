{
 "cells": [
  {
   "cell_type": "code",
   "execution_count": 2,
   "metadata": {},
   "outputs": [
    {
     "name": "stderr",
     "output_type": "stream",
     "text": [
      "/opt/conda/envs/cu110/lib/python3.8/site-packages/tqdm/auto.py:21: TqdmWarning: IProgress not found. Please update jupyter and ipywidgets. See https://ipywidgets.readthedocs.io/en/stable/user_install.html\n",
      "  from .autonotebook import tqdm as notebook_tqdm\n",
      "Using backend: pytorch\n"
     ]
    }
   ],
   "source": [
    "from client import Client\n",
    "from server import Server\n",
    "import os\n",
    "import dgl\n",
    "from time import time\n",
    "import sys\n",
    "\n",
    "# from ourparse import *\n",
    "from scipy.sparse import lil_matrix, csr_matrix\n",
    "from model import model\n",
    "from rec_dataset import *\n",
    "import torch.utils.data as dataloader\n",
    "import copy\n",
    "import random\n",
    "from util import *"
   ]
  },
  {
   "cell_type": "markdown",
   "metadata": {},
   "source": [
    "以mean归一化user-tag关系的pertubation的结果是不是一定程度有道理的。"
   ]
  },
  {
   "cell_type": "markdown",
   "metadata": {},
   "source": [
    "加载数据"
   ]
  },
  {
   "cell_type": "code",
   "execution_count": 6,
   "metadata": {},
   "outputs": [],
   "source": [
    "data_path = './data/100k/100k_mean.mat'\n",
    "data = sio.loadmat(data_path)\n",
    "# p_vs_f = data['PvsL']# (12499, 73)\n",
    "p_vs_a = data['user_vs_movie']#(12499, 17431) (943, 1682)\n",
    "# p_vs_t = data['PvsT']#(12499, 1903)\n",
    "p_vs_c = data['user_vs_tag']#(12499, 14) (943, 19)\n",
    "a_vs_t = data['movie_vs_tag']#(17431, 14) (1682, 19)"
   ]
  },
  {
   "cell_type": "markdown",
   "metadata": {},
   "source": [
    "选取case做分析（用协同过滤的方法算一下两个user的相似度）"
   ]
  },
  {
   "cell_type": "code",
   "execution_count": 11,
   "metadata": {},
   "outputs": [
    {
     "data": {
      "text/plain": [
       "array([[0, 0, 0, ..., 0, 0, 0],\n",
       "       [0, 0, 0, ..., 1, 0, 0],\n",
       "       [0, 0, 0, ..., 0, 0, 0],\n",
       "       ...,\n",
       "       [0, 0, 0, ..., 0, 0, 0],\n",
       "       [0, 0, 0, ..., 0, 0, 0],\n",
       "       [0, 0, 0, ..., 0, 0, 0]])"
      ]
     },
     "execution_count": 11,
     "metadata": {},
     "output_type": "execute_result"
    }
   ],
   "source": [
    "# user 0\n",
    "true = [491, 302, 487, 550, 389, 291, 92, 289, 1045, 432, 431, 672, 10, 649, 947, 1006, 329, 423, 656, 0, 221, 528, 522, 380, 365, 512, 86, 834, 632, 521, 377, 363, 179, 665, 321, 438, 83, 751]\n",
    "pertub = [  12,   22,   25 ,  29,   40,   77,   83 ,  86 ,  94 , 102 , 114 , 133,  164 , 170,\n",
    "  200 , 209,  221 , 256 , 288,  289,  304,  329 , 333 , 380 , 423,  492 , 512 , 550,\n",
    "  570 , 608 , 652,  659 , 695 , 719  ,779  ,807 , 862,  976, 1006, 1020, 1117 ,1169,\n",
    " 1237, 1545,1594]\n",
    "true_inters = np.zeros(1682)\n",
    "pertub_inters = np.zeros(1682)\n",
    "\n",
    "true_inters[true] = 1\n",
    "pertub_inters[pertub] = 1\n",
    "\n",
    "a_vs_t_np = np.array(a_vs_t.todense())\n",
    "a_vs_t_np"
   ]
  },
  {
   "cell_type": "code",
   "execution_count": 19,
   "metadata": {},
   "outputs": [
    {
     "data": {
      "text/plain": [
       "array([0, 0, 0, 0, 0, 1, 0, 0, 1, 0, 0, 0, 0, 0, 1, 0, 0, 0, 0])"
      ]
     },
     "execution_count": 19,
     "metadata": {},
     "output_type": "execute_result"
    }
   ],
   "source": [
    "true_tags = np.array(p_vs_c.todense())[0]\n",
    "\n",
    "true_tags"
   ]
  },
  {
   "cell_type": "code",
   "execution_count": 20,
   "metadata": {},
   "outputs": [
    {
     "data": {
      "text/plain": [
       "array([ 0., 10.,  5.,  0.,  1., 10.,  1.,  1., 20.,  0.,  0.,  2.,  0.,\n",
       "        0., 12.,  7.,  9.,  2.,  0.])"
      ]
     },
     "execution_count": 20,
     "metadata": {},
     "output_type": "execute_result"
    }
   ],
   "source": [
    "pertub_tags = np.dot(pertub_inters, a_vs_t_np)\n",
    "# pertub_tags[pertub_tags > 0] = 1\n",
    "pertub_tags"
   ]
  },
  {
   "cell_type": "code",
   "execution_count": 21,
   "metadata": {},
   "outputs": [
    {
     "data": {
      "text/plain": [
       "PearsonRResult(statistic=0.7717908764845521, pvalue=0.00010857587963080392)"
      ]
     },
     "execution_count": 21,
     "metadata": {},
     "output_type": "execute_result"
    }
   ],
   "source": [
    "from scipy.stats import pearsonr\n",
    "pearsonr(true_tags, pertub_tags)"
   ]
  }
 ],
 "metadata": {
  "kernelspec": {
   "display_name": "cu110",
   "language": "python",
   "name": "python3"
  },
  "language_info": {
   "codemirror_mode": {
    "name": "ipython",
    "version": 3
   },
   "file_extension": ".py",
   "mimetype": "text/x-python",
   "name": "python",
   "nbconvert_exporter": "python",
   "pygments_lexer": "ipython3",
   "version": "3.8.18"
  }
 },
 "nbformat": 4,
 "nbformat_minor": 2
}
